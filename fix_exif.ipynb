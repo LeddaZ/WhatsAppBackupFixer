{
 "cells": [
  {
   "cell_type": "code",
   "execution_count": 1,
   "metadata": {},
   "outputs": [],
   "source": [
    "import os\n",
    "from datetime import datetime\n",
    "import piexif\n",
    "folder = 'test_images/'"
   ]
  },
  {
   "cell_type": "code",
   "execution_count": 2,
   "metadata": {},
   "outputs": [],
   "source": [
    "def get_date(filename):\n",
    "    date_str = filename.split('-')[1]\n",
    "    return datetime.strptime(date_str, '%Y%m%d').strftime(\"%Y:%m:%d %H:%M:%S\")"
   ]
  },
  {
   "cell_type": "code",
   "execution_count": 3,
   "metadata": {},
   "outputs": [],
   "source": [
    "filenames = [fn for fn in os.listdir(folder) if fn.split('.')[-1] == 'jpg']"
   ]
  },
  {
   "cell_type": "code",
   "execution_count": 4,
   "metadata": {},
   "outputs": [],
   "source": [
    "for filename in filenames:\n",
    "    exif_dict = {'0th': { piexif.ImageIFD.DateTime: get_date(filename) }}\n",
    "    exif_bytes = piexif.dump(exif_dict)\n",
    "    piexif.insert(exif_bytes, folder + filename)"
   ]
  }
 ],
 "metadata": {
  "kernelspec": {
   "display_name": "Python 3",
   "language": "python",
   "name": "python3"
  },
  "language_info": {
   "codemirror_mode": {
    "name": "ipython",
    "version": 2
   },
   "file_extension": ".py",
   "mimetype": "text/x-python",
   "name": "python",
   "nbconvert_exporter": "python",
   "pygments_lexer": "ipython2",
   "version": "2.7.15rc1"
  }
 },
 "nbformat": 4,
 "nbformat_minor": 2
}
